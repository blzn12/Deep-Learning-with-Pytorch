{
  "nbformat": 4,
  "nbformat_minor": 0,
  "metadata": {
    "colab": {
      "provenance": [],
      "gpuType": "T4"
    },
    "kernelspec": {
      "name": "python3",
      "display_name": "Python 3"
    },
    "language_info": {
      "name": "python"
    },
    "accelerator": "GPU"
  },
  "cells": [
    {
      "cell_type": "code",
      "execution_count": 1,
      "metadata": {
        "id": "eu6MvbN1NHmm"
      },
      "outputs": [],
      "source": [
        "#load model\n",
        "import spacy\n",
        "nlp = spacy.load(\"en_core_web_sm\")"
      ]
    },
    {
      "cell_type": "code",
      "source": [
        "#text\n",
        "text = \"Cats are running quickly! The cats' owner loves them, and it's amazing.\"\n",
        "# Process the text\n",
        "doc = nlp(text)"
      ],
      "metadata": {
        "id": "PTlB5e2nNSwV"
      },
      "execution_count": 2,
      "outputs": []
    },
    {
      "cell_type": "code",
      "source": [
        "#tokenization\n",
        "tokens = []\n",
        "for token in doc:\n",
        "    tokens.append(token.text)\n",
        "print(\"Tokens:\", tokens)"
      ],
      "metadata": {
        "colab": {
          "base_uri": "https://localhost:8080/"
        },
        "id": "VVA7dTdDNeJ7",
        "outputId": "972fb3d0-c435-4a88-b799-a95925ab1eae"
      },
      "execution_count": 3,
      "outputs": [
        {
          "output_type": "stream",
          "name": "stdout",
          "text": [
            "Tokens: ['Cats', 'are', 'running', 'quickly', '!', 'The', 'cats', \"'\", 'owner', 'loves', 'them', ',', 'and', 'it', \"'s\", 'amazing', '.']\n"
          ]
        }
      ]
    },
    {
      "cell_type": "code",
      "source": [
        "#Stopword Removal\n",
        "stopword_removed = []\n",
        "for token in doc:\n",
        "    if not token.is_stop:\n",
        "        stopword_removed.append(token.text)\n",
        "print(\"Without Stopwords:\", stopword_removed)"
      ],
      "metadata": {
        "colab": {
          "base_uri": "https://localhost:8080/"
        },
        "id": "LnQLOVvgNYf-",
        "outputId": "904d2523-026d-47a3-df77-b62a20996355"
      },
      "execution_count": 4,
      "outputs": [
        {
          "output_type": "stream",
          "name": "stdout",
          "text": [
            "Without Stopwords: ['Cats', 'running', 'quickly', '!', 'cats', \"'\", 'owner', 'loves', ',', 'amazing', '.']\n"
          ]
        }
      ]
    },
    {
      "cell_type": "code",
      "source": [
        "# Lemmatization\n",
        "lemmas = []\n",
        "for token in doc:\n",
        "    if not token.is_stop:\n",
        "        lemmas.append(token.lemma_)\n",
        "print(\"After Lemmatization:\", lemmas)"
      ],
      "metadata": {
        "colab": {
          "base_uri": "https://localhost:8080/"
        },
        "id": "ZjBQ0AgrNvWD",
        "outputId": "0079db0d-4ff3-4102-f58c-b604b7ddd200"
      },
      "execution_count": 5,
      "outputs": [
        {
          "output_type": "stream",
          "name": "stdout",
          "text": [
            "After Lemmatization: ['cat', 'run', 'quickly', '!', 'cat', \"'\", 'owner', 'love', ',', 'amazing', '.']\n"
          ]
        }
      ]
    },
    {
      "cell_type": "code",
      "source": [
        "#Text Normalization\n",
        "normalized = []\n",
        "for token in doc:\n",
        "    if not token.is_stop and token.is_alpha:\n",
        "        normalized.append(token.lemma_.lower())\n",
        "print(\"Normalized Text:\", normalized)"
      ],
      "metadata": {
        "colab": {
          "base_uri": "https://localhost:8080/"
        },
        "id": "z0xzVL6NNvM2",
        "outputId": "1e43ff84-bb03-4900-845c-183506a3324c"
      },
      "execution_count": 6,
      "outputs": [
        {
          "output_type": "stream",
          "name": "stdout",
          "text": [
            "Normalized Text: ['cat', 'run', 'quickly', 'cat', 'owner', 'love', 'amazing']\n"
          ]
        }
      ]
    }
  ]
}